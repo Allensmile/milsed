{
 "cells": [
  {
   "cell_type": "code",
   "execution_count": 1,
   "metadata": {},
   "outputs": [
    {
     "name": "stderr",
     "output_type": "stream",
     "text": [
      "Using TensorFlow backend.\n"
     ]
    }
   ],
   "source": [
    "%matplotlib inline\n",
    "import milsed"
   ]
  },
  {
   "cell_type": "markdown",
   "metadata": {},
   "source": [
    "# First batch of models:\n",
    "\n",
    "190cd92.0 (pid 1574782): 27 hours: crnn1d_smp, default params, no augmentation\n",
    "\n",
    "190cd92.1 (pid 1574783): 7 hours: crnn1d_max, default params, no augmentation\n",
    "\n",
    "190cd92.2 (pid 1574944): 27 hours: crnn1d_avg, default params, no augmentation\n",
    "\n",
    "190cd92.3 (pid 1574945): 1 hours: cnn1d_smp, default params, no augmentation\n",
    "\n",
    "190cd92.4 (pid 1574946): cnn1d_max, default params, no augmentation\n",
    "\n",
    "190cd92.5 (pid 1574948): cnn1d_avg, default params, no augmentation"
   ]
  },
  {
   "cell_type": "code",
   "execution_count": 2,
   "metadata": {
    "collapsed": true
   },
   "outputs": [],
   "source": [
    "OUTPUT_PATH = '/home/js7561/dev/milsed/models/resources/'\n",
    "models = ['190cd92.0', '190cd92.1', '190cd92.2', '190cd92.3', '190cd92.4', '190cd92.5']"
   ]
  },
  {
   "cell_type": "code",
   "execution_count": 3,
   "metadata": {},
   "outputs": [
    {
     "data": {
      "text/html": [
       "<div>\n",
       "<style>\n",
       "    .dataframe thead tr:only-child th {\n",
       "        text-align: right;\n",
       "    }\n",
       "\n",
       "    .dataframe thead th {\n",
       "        text-align: left;\n",
       "    }\n",
       "\n",
       "    .dataframe tbody tr th {\n",
       "        vertical-align: top;\n",
       "    }\n",
       "</style>\n",
       "<table border=\"1\" class=\"dataframe\">\n",
       "  <thead>\n",
       "    <tr style=\"text-align: right;\">\n",
       "      <th></th>\n",
       "      <th>Model</th>\n",
       "      <th>w_f1</th>\n",
       "      <th>w_p</th>\n",
       "      <th>w_r</th>\n",
       "      <th>s_f1</th>\n",
       "      <th>s_p</th>\n",
       "      <th>s_r</th>\n",
       "      <th>s_e</th>\n",
       "    </tr>\n",
       "  </thead>\n",
       "  <tbody>\n",
       "    <tr>\n",
       "      <th>1</th>\n",
       "      <td>190cd92.0</td>\n",
       "      <td>0.232506</td>\n",
       "      <td>0.367857</td>\n",
       "      <td>0.169967</td>\n",
       "      <td>0.247321</td>\n",
       "      <td>0.208288</td>\n",
       "      <td>0.304358</td>\n",
       "      <td>1.34794</td>\n",
       "    </tr>\n",
       "    <tr>\n",
       "      <th>3</th>\n",
       "      <td>190cd92.1</td>\n",
       "      <td>0.163265</td>\n",
       "      <td>0.26087</td>\n",
       "      <td>0.118812</td>\n",
       "      <td>0.071561</td>\n",
       "      <td>0.186654</td>\n",
       "      <td>0.0442661</td>\n",
       "      <td>1.00275</td>\n",
       "    </tr>\n",
       "    <tr>\n",
       "      <th>5</th>\n",
       "      <td>190cd92.2</td>\n",
       "      <td>0.21764</td>\n",
       "      <td>0.355805</td>\n",
       "      <td>0.156766</td>\n",
       "      <td>0.219263</td>\n",
       "      <td>0.172691</td>\n",
       "      <td>0.300229</td>\n",
       "      <td>1.58303</td>\n",
       "    </tr>\n",
       "    <tr>\n",
       "      <th>0</th>\n",
       "      <td>190cd92.3</td>\n",
       "      <td>0.147685</td>\n",
       "      <td>0.305699</td>\n",
       "      <td>0.0973597</td>\n",
       "      <td>0.186294</td>\n",
       "      <td>0.136485</td>\n",
       "      <td>0.293349</td>\n",
       "      <td>1.98647</td>\n",
       "    </tr>\n",
       "    <tr>\n",
       "      <th>4</th>\n",
       "      <td>190cd92.4</td>\n",
       "      <td>0.158343</td>\n",
       "      <td>0.302326</td>\n",
       "      <td>0.107261</td>\n",
       "      <td>0.0716846</td>\n",
       "      <td>0.271903</td>\n",
       "      <td>0.0412844</td>\n",
       "      <td>0.984862</td>\n",
       "    </tr>\n",
       "    <tr>\n",
       "      <th>2</th>\n",
       "      <td>190cd92.5</td>\n",
       "      <td>0.153459</td>\n",
       "      <td>0.322751</td>\n",
       "      <td>0.10066</td>\n",
       "      <td>0.186791</td>\n",
       "      <td>0.119865</td>\n",
       "      <td>0.422936</td>\n",
       "      <td>3.15298</td>\n",
       "    </tr>\n",
       "  </tbody>\n",
       "</table>\n",
       "</div>"
      ],
      "text/plain": [
       "       Model      w_f1       w_p        w_r       s_f1       s_p        s_r  \\\n",
       "1  190cd92.0  0.232506  0.367857   0.169967   0.247321  0.208288   0.304358   \n",
       "3  190cd92.1  0.163265   0.26087   0.118812   0.071561  0.186654  0.0442661   \n",
       "5  190cd92.2   0.21764  0.355805   0.156766   0.219263  0.172691   0.300229   \n",
       "0  190cd92.3  0.147685  0.305699  0.0973597   0.186294  0.136485   0.293349   \n",
       "4  190cd92.4  0.158343  0.302326   0.107261  0.0716846  0.271903  0.0412844   \n",
       "2  190cd92.5  0.153459  0.322751    0.10066   0.186791  0.119865   0.422936   \n",
       "\n",
       "        s_e  \n",
       "1   1.34794  \n",
       "3   1.00275  \n",
       "5   1.58303  \n",
       "0   1.98647  \n",
       "4  0.984862  \n",
       "2   3.15298  "
      ]
     },
     "execution_count": 3,
     "metadata": {},
     "output_type": "execute_result"
    }
   ],
   "source": [
    "milsed.eval.compare_results(OUTPUT_PATH, models)"
   ]
  },
  {
   "cell_type": "markdown",
   "metadata": {},
   "source": [
    "We see that model **190cd92.0** (CRNN + SMP) performs best. Digging into this model:"
   ]
  },
  {
   "cell_type": "code",
   "execution_count": 4,
   "metadata": {},
   "outputs": [
    {
     "name": "stdout",
     "output_type": "stream",
     "text": [
      "Model     190cd92.0\n",
      "\n",
      "Weak:\n",
      "recall    0.170\n",
      "precision 0.368\n",
      "f1        0.233\n",
      "\n",
      "Strong:\n",
      "precision 0.208\n",
      "recall    0.304\n",
      "f1        0.247\n",
      "e_rate    1.348\n",
      "\n",
      "Strong per-class:                       P\tR\tF\tE\n",
      "Car alarm                               0.485\t0.098\t0.162\t1.006\n",
      "Fire engine, fire truck (siren)         0.294\t0.498\t0.370\t1.698\n",
      "Train                                   0.272\t0.155\t0.198\t1.260\n",
      "Car                                     0.107\t0.728\t0.187\t6.344\n",
      "Police car (siren)                      0.226\t0.469\t0.305\t2.137\n",
      "Train horn                              0.460\t0.187\t0.266\t1.032\n",
      "Bicycle                                 0.079\t0.112\t0.092\t2.199\n",
      "Air horn, truck horn                    0.434\t0.120\t0.188\t1.036\n",
      "Civil defense siren                     0.618\t0.679\t0.647\t0.741\n",
      "Car passing by                          0.183\t0.044\t0.071\t1.151\n",
      "Screaming                               0.346\t0.269\t0.303\t1.239\n",
      "Truck                                   0.198\t0.245\t0.219\t1.751\n",
      "Ambulance (siren)                       0.283\t0.096\t0.143\t1.148\n",
      "Skateboard                              0.395\t0.665\t0.495\t1.355\n",
      "Reversing beeps                         1.000\t0.006\t0.011\t0.994\n",
      "Bus                                     0.165\t0.176\t0.170\t1.713\n",
      "Motorcycle                              0.133\t0.188\t0.156\t2.033\n",
      "\n",
      "Loss:\n"
     ]
    },
    {
     "data": {
      "image/png": "[encoded data removed]",
      "text/plain": [
       "<matplotlib.figure.Figure at 0x2adc8a521390>"
      ]
     },
     "metadata": {},
     "output_type": "display_data"
    }
   ],
   "source": [
    "milsed.eval.report_results(OUTPUT_PATH, '190cd92.0')"
   ]
  },
  {
   "cell_type": "code",
   "execution_count": null,
   "metadata": {
    "collapsed": true
   },
   "outputs": [],
   "source": []
  }
 ],
 "metadata": {
  "kernelspec": {
   "display_name": "Python 3",
   "language": "python",
   "name": "python3"
  },
  "language_info": {
   "codemirror_mode": {
    "name": "ipython",
    "version": 3
   },
   "file_extension": ".py",
   "mimetype": "text/x-python",
   "name": "python",
   "nbconvert_exporter": "python",
   "pygments_lexer": "ipython3",
   "version": "3.5.3"
  }
 },
 "nbformat": 4,
 "nbformat_minor": 2
}
