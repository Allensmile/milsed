{
 "cells": [
  {
   "cell_type": "markdown",
   "metadata": {},
   "source": [
    "# Get train/test/eval file durations and save to disk (will be used for eval)"
   ]
  },
  {
   "cell_type": "code",
   "execution_count": 4,
   "metadata": {
    "collapsed": true
   },
   "outputs": [],
   "source": [
    "%matplotlib inline\n",
    "import sox\n",
    "import pandas as pd\n",
    "import numpy as np\n",
    "import json\n",
    "import pickle\n",
    "import os\n",
    "import glob\n",
    "from tqdm import tqdm"
   ]
  },
  {
   "cell_type": "code",
   "execution_count": 3,
   "metadata": {
    "collapsed": true
   },
   "outputs": [],
   "source": [
    "testfolder = '/beegfs/js7561/datasets/dcase2017/task4_official/test/audio/'\n",
    "trainfolder = '/beegfs/js7561/datasets/dcase2017/task4_official/train/audio/'\n",
    "evalfolder = '/beegfs/js7561/datasets/dcase2017/task4_official/eval/audio/'"
   ]
  },
  {
   "cell_type": "code",
   "execution_count": 8,
   "metadata": {
    "collapsed": true
   },
   "outputs": [],
   "source": [
    "durdict = {}"
   ]
  },
  {
   "cell_type": "code",
   "execution_count": 9,
   "metadata": {},
   "outputs": [
    {
     "name": "stderr",
     "output_type": "stream",
     "text": [
      "100%|██████████| 488/488 [00:05<00:00, 84.44it/s]\n"
     ]
    }
   ],
   "source": [
    "for f in tqdm(glob.glob(os.path.join(testfolder, '*.wav'))):\n",
    "    fname = os.path.basename(f).replace('.wav', '')\n",
    "    duration = sox.file_info.duration(f)\n",
    "    durdict[fname] = duration"
   ]
  },
  {
   "cell_type": "code",
   "execution_count": 11,
   "metadata": {},
   "outputs": [
    {
     "name": "stderr",
     "output_type": "stream",
     "text": [
      "100%|██████████| 51172/51172 [37:28<00:00, 25.61it/s]\n"
     ]
    }
   ],
   "source": [
    "for f in tqdm(glob.glob(os.path.join(trainfolder, '*.wav'))):\n",
    "    fname = os.path.basename(f).replace('.wav', '')\n",
    "    duration = sox.file_info.duration(f)\n",
    "    durdict[fname] = duration"
   ]
  },
  {
   "cell_type": "code",
   "execution_count": 12,
   "metadata": {},
   "outputs": [
    {
     "name": "stderr",
     "output_type": "stream",
     "text": [
      "100%|██████████| 1103/1103 [00:20<00:00, 54.31it/s]\n"
     ]
    }
   ],
   "source": [
    "for f in tqdm(glob.glob(os.path.join(evalfolder, '*.wav'))):\n",
    "    fname = os.path.basename(f).replace('.wav', '')\n",
    "    duration = sox.file_info.duration(f)\n",
    "    durdict[fname] = duration"
   ]
  },
  {
   "cell_type": "code",
   "execution_count": 13,
   "metadata": {
    "collapsed": true
   },
   "outputs": [],
   "source": [
    "# Save this dictionary to disk\n",
    "duration_file = '/beegfs/js7561/datasets/dcase2017/task4_official/combined/metadata/durations.json'\n",
    "with open(duration_file, 'w') as fp:\n",
    "    json.dump(durdict, fp, indent=2)"
   ]
  },
  {
   "cell_type": "code",
   "execution_count": null,
   "metadata": {
    "collapsed": true
   },
   "outputs": [],
   "source": []
  }
 ],
 "metadata": {
  "kernelspec": {
   "display_name": "Python 3",
   "language": "python",
   "name": "python3"
  },
  "language_info": {
   "codemirror_mode": {
    "name": "ipython",
    "version": 3
   },
   "file_extension": ".py",
   "mimetype": "text/x-python",
   "name": "python",
   "nbconvert_exporter": "python",
   "pygments_lexer": "ipython3",
   "version": "3.5.3"
  }
 },
 "nbformat": 4,
 "nbformat_minor": 2
}
