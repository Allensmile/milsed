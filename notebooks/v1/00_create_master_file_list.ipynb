{
 "cells": [
  {
   "cell_type": "markdown",
   "metadata": {},
   "source": [
    "# Create train, test and eval file indices"
   ]
  },
  {
   "cell_type": "code",
   "execution_count": 24,
   "metadata": {},
   "outputs": [],
   "source": [
    "%matplotlib inline\n",
    "import numpy as np\n",
    "import pandas as pd\n",
    "import os\n",
    "import glob\n",
    "import jams\n",
    "import muda\n",
    "import json\n",
    "import shutil"
   ]
  },
  {
   "cell_type": "code",
   "execution_count": 7,
   "metadata": {},
   "outputs": [
    {
     "name": "stdout",
     "output_type": "stream",
     "text": [
      "jams: 0.3.0\n",
      "muda: 0.1.4\n",
      "pandas: 0.20.3\n"
     ]
    }
   ],
   "source": [
    "print('jams:', jams.__version__)\n",
    "print('muda:', muda.__version__)\n",
    "print('pandas:', pd.__version__)"
   ]
  },
  {
   "cell_type": "code",
   "execution_count": 9,
   "metadata": {
    "collapsed": true
   },
   "outputs": [],
   "source": [
    "OUTPATH = '/beegfs/js7561/datasets/dcase2017/task4_official/combined/metadata/'"
   ]
  },
  {
   "cell_type": "markdown",
   "metadata": {},
   "source": [
    "### Train files"
   ]
  },
  {
   "cell_type": "code",
   "execution_count": 10,
   "metadata": {},
   "outputs": [
    {
     "name": "stdout",
     "output_type": "stream",
     "text": [
      "51172\n"
     ]
    }
   ],
   "source": [
    "# Train files\n",
    "trainfolder = '/beegfs/js7561/datasets/dcase2017/task4_official/train/audio_silence/'\n",
    "trainfiles = glob.glob(os.path.join(trainfolder, '*.wav'))\n",
    "print(len(trainfiles))"
   ]
  },
  {
   "cell_type": "code",
   "execution_count": 11,
   "metadata": {
    "collapsed": true
   },
   "outputs": [],
   "source": [
    "train_filenames = [os.path.splitext(os.path.basename(f))[0] for f in trainfiles]"
   ]
  },
  {
   "cell_type": "code",
   "execution_count": 12,
   "metadata": {},
   "outputs": [
    {
     "data": {
      "text/plain": [
       "['Yg0JARD8y5Hg_30.000_40.000',\n",
       " 'Y7dEsD3egAcM_270.000_280.000',\n",
       " 'Y0fJsLVEMQpM_0.000_7.000',\n",
       " 'YNMmR2Bd8TSY_29.000_39.000',\n",
       " 'Y9wQJp09sW70_30.000_40.000',\n",
       " 'YCqEdRNDdRo4_8.000_18.000',\n",
       " 'YlEwMJeqses0_8.000_18.000',\n",
       " 'YWD3Ujr-FoYo_30.000_40.000',\n",
       " 'YNcjxxJSZ9iM_6.000_16.000',\n",
       " 'YADKjrxUihKk_30.000_40.000']"
      ]
     },
     "execution_count": 12,
     "metadata": {},
     "output_type": "execute_result"
    }
   ],
   "source": [
    "train_filenames[:10]"
   ]
  },
  {
   "cell_type": "code",
   "execution_count": 14,
   "metadata": {},
   "outputs": [],
   "source": [
    "jsonfile = os.path.join(OUTPATH, 'index_train.json')\n",
    "with open(jsonfile, 'w') as jf:\n",
    "    json.dump({'id': train_filenames}, jf, indent=2)"
   ]
  },
  {
   "cell_type": "markdown",
   "metadata": {},
   "source": [
    "### Test files"
   ]
  },
  {
   "cell_type": "code",
   "execution_count": 15,
   "metadata": {},
   "outputs": [
    {
     "name": "stdout",
     "output_type": "stream",
     "text": [
      "488\n"
     ]
    }
   ],
   "source": [
    "# Test files\n",
    "testfolder = '/beegfs/js7561/datasets/dcase2017/task4_official/test/audio_silence/'\n",
    "testfiles = glob.glob(os.path.join(testfolder, '*.wav'))\n",
    "print(len(testfiles))"
   ]
  },
  {
   "cell_type": "code",
   "execution_count": 16,
   "metadata": {
    "collapsed": true
   },
   "outputs": [],
   "source": [
    "test_filenames = [os.path.splitext(os.path.basename(f))[0] for f in testfiles]"
   ]
  },
  {
   "cell_type": "code",
   "execution_count": 17,
   "metadata": {},
   "outputs": [
    {
     "data": {
      "text/plain": [
       "['Y-3exNVlj92w_30.000_40.000',\n",
       " 'YA437a4Y_xag_230.000_240.000',\n",
       " 'Y-VULyMtKazE_0.000_7.000',\n",
       " 'Y-3gSkrDKNSA_27.000_37.000',\n",
       " 'Y-1X7kpLnOpM_60.000_70.000',\n",
       " 'Y-x70B12Mb-8_30.000_40.000',\n",
       " 'Y-Em3OpyaefM_30.000_40.000',\n",
       " 'Y0rVBXpbgO8s_30.000_40.000',\n",
       " 'YA-GNszKtjJc_93.000_103.000',\n",
       " 'Y-BGebo8V4XY_30.000_40.000']"
      ]
     },
     "execution_count": 17,
     "metadata": {},
     "output_type": "execute_result"
    }
   ],
   "source": [
    "test_filenames[:10]"
   ]
  },
  {
   "cell_type": "code",
   "execution_count": 18,
   "metadata": {
    "collapsed": true
   },
   "outputs": [],
   "source": [
    "jsonfile = os.path.join(OUTPATH, 'index_test.json')\n",
    "with open(jsonfile, 'w') as jf:\n",
    "    json.dump({'id': test_filenames}, jf, indent=2)"
   ]
  },
  {
   "cell_type": "markdown",
   "metadata": {},
   "source": [
    "### Eval files"
   ]
  },
  {
   "cell_type": "code",
   "execution_count": 19,
   "metadata": {},
   "outputs": [
    {
     "name": "stdout",
     "output_type": "stream",
     "text": [
      "1103\n"
     ]
    }
   ],
   "source": [
    "# Eval files\n",
    "evalfolder = '/beegfs/js7561/datasets/dcase2017/task4_official/eval/audio_silence/'\n",
    "evalfiles = glob.glob(os.path.join(evalfolder, '*.wav'))\n",
    "print(len(evalfiles))"
   ]
  },
  {
   "cell_type": "code",
   "execution_count": 20,
   "metadata": {
    "collapsed": true
   },
   "outputs": [],
   "source": [
    "eval_filenames = [os.path.splitext(os.path.basename(f))[0] for f in evalfiles]"
   ]
  },
  {
   "cell_type": "code",
   "execution_count": 21,
   "metadata": {},
   "outputs": [
    {
     "data": {
      "text/plain": [
       "['YeyFPHlybqDg_30.000_40.000',\n",
       " 'YxuMBy2NoROI_30.000_40.000',\n",
       " 'YikmE_kRvDAc_30.000_40.000',\n",
       " 'YcB1jkzgH2es_150.000_160.000',\n",
       " 'YaOoZ0bCoaZw_30.000_40.000',\n",
       " 'YrGUrM19BnJ8_110.000_120.000',\n",
       " 'Y7g6aZTBe2xE_30.000_40.000',\n",
       " 'Y3NX4HaOVBoo_240.000_250.000',\n",
       " 'YeCFUwyU9ZWA_9.000_19.000',\n",
       " 'YmCmjh_EJtb4_30.000_40.000']"
      ]
     },
     "execution_count": 21,
     "metadata": {},
     "output_type": "execute_result"
    }
   ],
   "source": [
    "eval_filenames[:10]"
   ]
  },
  {
   "cell_type": "code",
   "execution_count": 22,
   "metadata": {
    "collapsed": true
   },
   "outputs": [],
   "source": [
    "jsonfile = os.path.join(OUTPATH, 'index_eval.json')\n",
    "with open(jsonfile, 'w') as jf:\n",
    "    json.dump({'id': eval_filenames}, jf, indent=2)"
   ]
  },
  {
   "cell_type": "markdown",
   "metadata": {},
   "source": [
    "### Copy files into resources folder"
   ]
  },
  {
   "cell_type": "code",
   "execution_count": 25,
   "metadata": {},
   "outputs": [
    {
     "name": "stdout",
     "output_type": "stream",
     "text": [
      "train\n",
      "test\n",
      "eval\n"
     ]
    }
   ],
   "source": [
    "resourcefolder = '/home/js7561/dev/milsed/models/resources/'\n",
    "for split in ['train', 'test', 'eval']:\n",
    "    print(split)\n",
    "    shutil.copyfile(os.path.join(OUTPATH, 'index_{:s}.json'.format(split)), \n",
    "                    os.path.join(resourcefolder, 'index_{:s}.json'.format(split)))"
   ]
  },
  {
   "cell_type": "code",
   "execution_count": null,
   "metadata": {
    "collapsed": true
   },
   "outputs": [],
   "source": []
  }
 ],
 "metadata": {
  "kernelspec": {
   "display_name": "Python 3",
   "language": "python",
   "name": "python3"
  },
  "language_info": {
   "codemirror_mode": {
    "name": "ipython",
    "version": 3
   },
   "file_extension": ".py",
   "mimetype": "text/x-python",
   "name": "python",
   "nbconvert_exporter": "python",
   "pygments_lexer": "ipython3",
   "version": "3.5.3"
  }
 },
 "nbformat": 4,
 "nbformat_minor": 2
}
