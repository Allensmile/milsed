{
 "cells": [
  {
   "cell_type": "code",
   "execution_count": 1,
   "metadata": {
    "collapsed": true
   },
   "outputs": [],
   "source": [
    "%matplotlib inline\n",
    "import numpy as np\n",
    "import pandas as pd\n",
    "import os\n",
    "import glob\n",
    "import jams\n",
    "import muda\n",
    "import json"
   ]
  },
  {
   "cell_type": "code",
   "execution_count": 2,
   "metadata": {},
   "outputs": [
    {
     "name": "stdout",
     "output_type": "stream",
     "text": [
      "jams: 0.3.0\n",
      "muda: 0.1.4\n",
      "pandas: 0.20.2\n"
     ]
    }
   ],
   "source": [
    "print('jams:', jams.__version__)\n",
    "print('muda:', muda.__version__)\n",
    "print('pandas:', pd.__version__)"
   ]
  },
  {
   "cell_type": "code",
   "execution_count": 3,
   "metadata": {
    "collapsed": true
   },
   "outputs": [],
   "source": [
    "OUTPATH = '/home/js7561/dev/milsed/models/resources/'"
   ]
  },
  {
   "cell_type": "code",
   "execution_count": 4,
   "metadata": {
    "collapsed": true
   },
   "outputs": [],
   "source": [
    "featurefolder = '/beegfs/js7561/datasets/dcase2017/task4_official/train/features_silence/'\n",
    "ffiles = glob.glob(os.path.join(featurefolder, '*.h5'))"
   ]
  },
  {
   "cell_type": "code",
   "execution_count": 5,
   "metadata": {},
   "outputs": [
    {
     "data": {
      "text/plain": [
       "51172"
      ]
     },
     "execution_count": 5,
     "metadata": {},
     "output_type": "execute_result"
    }
   ],
   "source": [
    "len(ffiles)"
   ]
  },
  {
   "cell_type": "code",
   "execution_count": 9,
   "metadata": {
    "collapsed": true
   },
   "outputs": [],
   "source": [
    "filenames = [os.path.splitext(os.path.basename(f))[0] for f in ffiles]"
   ]
  },
  {
   "cell_type": "code",
   "execution_count": 10,
   "metadata": {},
   "outputs": [
    {
     "data": {
      "text/plain": [
       "['YOrfyRpXYWEk_0.000_10.000',\n",
       " 'Yx-j5MdM1KR0_14.000_24.000',\n",
       " 'YnsXP-wWPrLo_30.000_40.000',\n",
       " 'YJ4U0JaCy_Qk_30.000_40.000',\n",
       " 'YfAxHss0GwVs_30.000_40.000',\n",
       " 'Y58tSAz2TItg_30.000_40.000',\n",
       " 'YB-B6Mx2S7E4_8.000_18.000',\n",
       " 'Yzbh1fupFwRM_0.000_10.000',\n",
       " 'YPZrc_ddxLrM_0.000_7.000',\n",
       " 'Ybo_KcZvGHJw_30.000_40.000']"
      ]
     },
     "execution_count": 10,
     "metadata": {},
     "output_type": "execute_result"
    }
   ],
   "source": [
    "filenames[:10]"
   ]
  },
  {
   "cell_type": "code",
   "execution_count": 12,
   "metadata": {},
   "outputs": [],
   "source": [
    "jsonfile = os.path.join(OUTPATH, 'index_train.json')\n",
    "with open(jsonfile, 'w') as jf:\n",
    "    json.dump({'id': filenames}, jf, indent=2)"
   ]
  },
  {
   "cell_type": "code",
   "execution_count": null,
   "metadata": {
    "collapsed": true
   },
   "outputs": [],
   "source": []
  }
 ],
 "metadata": {
  "kernelspec": {
   "display_name": "Python 3",
   "language": "python",
   "name": "python3"
  },
  "language_info": {
   "codemirror_mode": {
    "name": "ipython",
    "version": 3
   },
   "file_extension": ".py",
   "mimetype": "text/x-python",
   "name": "python",
   "nbconvert_exporter": "python",
   "pygments_lexer": "ipython3",
   "version": "3.5.3"
  }
 },
 "nbformat": 4,
 "nbformat_minor": 2
}
