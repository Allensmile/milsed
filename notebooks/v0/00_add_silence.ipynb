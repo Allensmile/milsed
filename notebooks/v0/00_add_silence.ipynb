{
 "cells": [
  {
   "cell_type": "markdown",
   "metadata": {},
   "source": [
    "# Add silence to all audio files shorter than 10s"
   ]
  },
  {
   "cell_type": "code",
   "execution_count": 1,
   "metadata": {
    "collapsed": true
   },
   "outputs": [],
   "source": [
    "import sox\n",
    "import os\n",
    "import glob\n",
    "import shutil\n",
    "from tqdm import tqdm"
   ]
  },
  {
   "cell_type": "markdown",
   "metadata": {},
   "source": [
    "## Test Files"
   ]
  },
  {
   "cell_type": "code",
   "execution_count": 11,
   "metadata": {
    "collapsed": true
   },
   "outputs": [],
   "source": [
    "inputfolder = '/beegfs/js7561/datasets/dcase2017/task4_official/test/audio/'\n",
    "outputfolder = '/beegfs/js7561/datasets/dcase2017/task4_official/test/audio_silence/'\n",
    "\n",
    "if not os.path.isdir(outputfolder):\n",
    "    os.mkdir(outputfolder)"
   ]
  },
  {
   "cell_type": "code",
   "execution_count": 12,
   "metadata": {
    "collapsed": true
   },
   "outputs": [],
   "source": [
    "audiofiles = glob.glob(os.path.join(inputfolder, '*.wav'))"
   ]
  },
  {
   "cell_type": "code",
   "execution_count": 13,
   "metadata": {},
   "outputs": [
    {
     "name": "stderr",
     "output_type": "stream",
     "text": [
      "100%|██████████| 488/488 [00:05<00:00, 90.17it/s]\n"
     ]
    }
   ],
   "source": [
    "badfiles = []\n",
    "baddurations = []\n",
    "\n",
    "for af in tqdm(audiofiles):\n",
    "    \n",
    "    duration = sox.file_info.duration(af)\n",
    "    outfile = os.path.join(outputfolder, os.path.basename(af))\n",
    "\n",
    "    if duration < 10.0:\n",
    "        \n",
    "#         print(os.path.basename(af), duration)\n",
    "        badfiles.append(af)\n",
    "        baddurations.append(duration)\n",
    "        \n",
    "        tfm = sox.Transformer()\n",
    "        tfm.pad(start_duration=0.0, end_duration=(10.0 - duration))\n",
    "        tfm.build(input_filepath=af, output_filepath=outfile)\n",
    "        \n",
    "    elif duration > 10.0:\n",
    "        \n",
    "        print(os.path.basename(af), duration)\n",
    "        \n",
    "        tfm = sox.Transformer()\n",
    "        tfm.trim(start_time=0.0, end_time=10.0)\n",
    "        tfm.build(input_filepath=af, output_filepath=outfile)\n",
    "        badfiles.append(af)\n",
    "        baddurations.append(duration)\n",
    "        \n",
    "    else:\n",
    "        \n",
    "        shutil.copyfile(af, outfile)\n",
    "        "
   ]
  },
  {
   "cell_type": "code",
   "execution_count": 14,
   "metadata": {},
   "outputs": [
    {
     "name": "stderr",
     "output_type": "stream",
     "text": [
      "100%|██████████| 488/488 [00:03<00:00, 142.43it/s]\n"
     ]
    }
   ],
   "source": [
    "# Verify\n",
    "processed_files = glob.glob(os.path.join(outputfolder, '*.wav'))\n",
    "for pf in tqdm(processed_files):\n",
    "    assert sox.file_info.duration(pf) == 10.0"
   ]
  },
  {
   "cell_type": "markdown",
   "metadata": {},
   "source": [
    "## Train Files"
   ]
  },
  {
   "cell_type": "code",
   "execution_count": 15,
   "metadata": {
    "collapsed": true
   },
   "outputs": [],
   "source": [
    "inputfolder = '/beegfs/js7561/datasets/dcase2017/task4_official/train/audio/'\n",
    "outputfolder = '/beegfs/js7561/datasets/dcase2017/task4_official/train/audio_silence/'\n",
    "\n",
    "if not os.path.isdir(outputfolder):\n",
    "    os.mkdir(outputfolder)"
   ]
  },
  {
   "cell_type": "code",
   "execution_count": 16,
   "metadata": {
    "collapsed": true
   },
   "outputs": [],
   "source": [
    "audiofiles = glob.glob(os.path.join(inputfolder, '*.wav'))"
   ]
  },
  {
   "cell_type": "code",
   "execution_count": 17,
   "metadata": {},
   "outputs": [
    {
     "name": "stderr",
     "output_type": "stream",
     "text": [
      "100%|██████████| 51172/51172 [10:01<00:00, 85.07it/s]\n"
     ]
    }
   ],
   "source": [
    "badfiles_train = []\n",
    "baddurations_train = []\n",
    "\n",
    "for af in tqdm(audiofiles):\n",
    "    \n",
    "    duration = sox.file_info.duration(af)\n",
    "    outfile = os.path.join(outputfolder, os.path.basename(af))\n",
    "\n",
    "    if duration < 10.0:\n",
    "        \n",
    "#         print(os.path.basename(af), duration)\n",
    "        badfiles_train.append(af)\n",
    "        baddurations_train.append(duration)\n",
    "        \n",
    "        tfm = sox.Transformer()\n",
    "        tfm.pad(start_duration=0.0, end_duration=(10.0 - duration))\n",
    "        tfm.build(input_filepath=af, output_filepath=outfile)\n",
    "        \n",
    "    elif duration > 10.0:\n",
    "        \n",
    "        print(os.path.basename(af), duration)\n",
    "        \n",
    "        tfm = sox.Transformer()\n",
    "        tfm.trim(start_time=0.0, end_time=10.0)\n",
    "        tfm.build(input_filepath=af, output_filepath=outfile)\n",
    "        badfiles_train.append(af)\n",
    "        baddurations_train.append(duration)\n",
    "        \n",
    "    else:\n",
    "        \n",
    "        shutil.copyfile(af, outfile)\n",
    "        "
   ]
  },
  {
   "cell_type": "code",
   "execution_count": 18,
   "metadata": {},
   "outputs": [
    {
     "name": "stderr",
     "output_type": "stream",
     "text": [
      "100%|██████████| 51172/51172 [06:10<00:00, 138.92it/s]\n"
     ]
    }
   ],
   "source": [
    "# Verify\n",
    "processed_files = glob.glob(os.path.join(outputfolder, '*.wav'))\n",
    "for pf in tqdm(processed_files):\n",
    "    assert sox.file_info.duration(pf) == 10.0"
   ]
  },
  {
   "cell_type": "markdown",
   "metadata": {
    "collapsed": true
   },
   "source": [
    "## Challenge eval set"
   ]
  },
  {
   "cell_type": "code",
   "execution_count": 2,
   "metadata": {
    "collapsed": true
   },
   "outputs": [],
   "source": [
    "inputfolder = '/beegfs/js7561/datasets/dcase2017/task4_official/eval/audio/'\n",
    "outputfolder = '/beegfs/js7561/datasets/dcase2017/task4_official/eval/audio_silence/'\n",
    "\n",
    "if not os.path.isdir(outputfolder):\n",
    "    os.mkdir(outputfolder)"
   ]
  },
  {
   "cell_type": "code",
   "execution_count": 3,
   "metadata": {
    "collapsed": true
   },
   "outputs": [],
   "source": [
    "audiofiles = glob.glob(os.path.join(inputfolder, '*.wav'))"
   ]
  },
  {
   "cell_type": "code",
   "execution_count": 5,
   "metadata": {},
   "outputs": [
    {
     "name": "stderr",
     "output_type": "stream",
     "text": [
      "100%|██████████| 1103/1103 [00:13<00:00, 79.48it/s]\n"
     ]
    }
   ],
   "source": [
    "badfiles = []\n",
    "baddurations = []\n",
    "\n",
    "for af in tqdm(audiofiles):\n",
    "    \n",
    "    duration = sox.file_info.duration(af)\n",
    "    outfile = os.path.join(outputfolder, os.path.basename(af))\n",
    "\n",
    "    if duration < 10.0:\n",
    "        \n",
    "#         print(os.path.basename(af), duration)\n",
    "        badfiles.append(af)\n",
    "        baddurations.append(duration)\n",
    "        \n",
    "        tfm = sox.Transformer()\n",
    "        tfm.pad(start_duration=0.0, end_duration=(10.0 - duration))\n",
    "        tfm.build(input_filepath=af, output_filepath=outfile)\n",
    "        \n",
    "    elif duration > 10.0:\n",
    "        \n",
    "        print(os.path.basename(af), duration)\n",
    "        \n",
    "        tfm = sox.Transformer()\n",
    "        tfm.trim(start_time=0.0, end_time=10.0)\n",
    "        tfm.build(input_filepath=af, output_filepath=outfile)\n",
    "        badfiles.append(af)\n",
    "        baddurations.append(duration)\n",
    "        \n",
    "    else:\n",
    "        \n",
    "        shutil.copyfile(af, outfile)"
   ]
  },
  {
   "cell_type": "code",
   "execution_count": 6,
   "metadata": {},
   "outputs": [
    {
     "name": "stderr",
     "output_type": "stream",
     "text": [
      "100%|██████████| 1103/1103 [00:08<00:00, 131.91it/s]\n"
     ]
    }
   ],
   "source": [
    "# Verify\n",
    "processed_files = glob.glob(os.path.join(outputfolder, '*.wav'))\n",
    "for pf in tqdm(processed_files):\n",
    "    assert sox.file_info.duration(pf) == 10.0"
   ]
  },
  {
   "cell_type": "code",
   "execution_count": null,
   "metadata": {
    "collapsed": true
   },
   "outputs": [],
   "source": []
  }
 ],
 "metadata": {
  "kernelspec": {
   "display_name": "Python 3",
   "language": "python",
   "name": "python3"
  },
  "language_info": {
   "codemirror_mode": {
    "name": "ipython",
    "version": 3
   },
   "file_extension": ".py",
   "mimetype": "text/x-python",
   "name": "python",
   "nbconvert_exporter": "python",
   "pygments_lexer": "ipython3",
   "version": "3.5.3"
  }
 },
 "nbformat": 4,
 "nbformat_minor": 2
}
